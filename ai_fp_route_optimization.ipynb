{
  "nbformat": 4,
  "nbformat_minor": 0,
  "metadata": {
    "colab": {
      "name": "ai_fp_route_optimization.ipynb",
      "provenance": []
    },
    "kernelspec": {
      "name": "python3",
      "display_name": "Python 3"
    },
    "language_info": {
      "name": "python"
    },
    "accelerator": "GPU"
  },
  "cells": [
    {
      "cell_type": "markdown",
      "metadata": {
        "id": "vXPgVsR_lRRJ"
      },
      "source": [
        "import 函式庫"
      ]
    },
    {
      "cell_type": "code",
      "metadata": {
        "id": "wPqbAnCizUvm"
      },
      "source": [
        "import glob\n",
        "import json\n",
        "import numpy as np\n",
        "from tensorflow import keras\n",
        "from tensorflow.keras.layers import Dense\n",
        "from tensorflow.keras.models import Sequential\n",
        "from sklearn.model_selection import train_test_split\n",
        "from tensorflow.keras.layers import Dropout\n",
        "from sklearn.preprocessing import MaxAbsScaler\n",
        "from sklearn.preprocessing import OneHotEncoder\n",
        "from keras.models import load_model"
      ],
      "execution_count": 25,
      "outputs": []
    },
    {
      "cell_type": "markdown",
      "metadata": {
        "id": "iKieIwauzesT"
      },
      "source": [
        "data processing"
      ]
    },
    {
      "cell_type": "code",
      "metadata": {
        "id": "97ZGTnM4zgQi"
      },
      "source": [
        "ALL_CHARACTERS = ['DEFECT', 'IRONCLAD', 'THE_SILENT', 'WATCHER']"
      ],
      "execution_count": 14,
      "outputs": []
    },
    {
      "cell_type": "code",
      "metadata": {
        "id": "Hz2TCwjVNXYH"
      },
      "source": [
        "def encode_single(value, category):\n",
        "  np_array = np.array([[value]])\n",
        "  encoder = OneHotEncoder(categories=[category], sparse=False)\n",
        "  onehot_encoded = encoder.fit_transform(np_array)\n",
        "  collapsed = np.sum(onehot_encoded, axis=0)\n",
        "  # inverse = encoder.inverse_transform(collapsed[np.newaxis, ...])\n",
        "  # print(np.array_equal(np_array, inverse))\n",
        "  return collapsed"
      ],
      "execution_count": 15,
      "outputs": []
    },
    {
      "cell_type": "code",
      "metadata": {
        "id": "MWSF9FMmNE9T"
      },
      "source": [
        "def encode_character(character):\n",
        "  \"\"\"\n",
        "  Encode the chosen character into a one-hot vector of length ALL_CHARACTERS\n",
        "  \"\"\"\n",
        "  return encode_single(character, ALL_CHARACTERS)"
      ],
      "execution_count": 16,
      "outputs": []
    },
    {
      "cell_type": "code",
      "metadata": {
        "id": "C9yHMsUPOi4g"
      },
      "source": [
        "def encode_sample_with_loop(sample):\n",
        "  \"\"\"\n",
        "  Encode a single sample into a 1D vector\n",
        "  [{\"cards\": 10, \"relics\": 1, \"ascension\": 20, \"character\": \"IRONCLAD\", \"floor\": 0, \"potions\": 0, \"path\": \"M\", \"max_hp\": 82, \"current_hp\": 82, \"gold\": 99, \"value\": 2884.076040777472, \"upgrade_cards\": 0, \"curse_cards\": 1}\n",
        "  \"\"\"\n",
        "  character=encode_character(sample['character'])\n",
        " # print(character)\n",
        "  num_data = np.array([sample['cards'],sample['relics'],sample['ascension'],sample['floor'],sample['potions'],ord(sample['path']),sample['max_hp'],sample['current_hp'],sample['gold'],sample['upgrade_cards'],sample['curse_cards']])\n",
        "  x=np.concatenate((character, num_data))\n",
        "  #print(len(x))\n",
        "  return  x"
      ],
      "execution_count": 17,
      "outputs": []
    },
    {
      "cell_type": "code",
      "metadata": {
        "id": "2IiKigZcRzM9"
      },
      "source": [
        "def preprocess_with_loop(data):\n",
        "  preprocess_list=[]\n",
        "  y=[]\n",
        "  for i,sample in enumerate(data):\n",
        "    if sample['path']!= None:\n",
        "      preprocess_list.append(encode_sample_with_loop(sample))\n",
        "      y.append(sample['value'])\n",
        "  X=np.vstack(preprocess_list)\n",
        "  #print(len(X))\n",
        "  Y=np.array(y,dtype='float64')\n",
        "  #print(len(Y))\n",
        "  return X,Y"
      ],
      "execution_count": 18,
      "outputs": []
    },
    {
      "cell_type": "code",
      "metadata": {
        "colab": {
          "base_uri": "https://localhost:8080/"
        },
        "id": "wzppPrYJUq6J",
        "outputId": "59e5d1df-29ef-4d65-c342-e82549281142"
      },
      "source": [
        "files=glob.glob('test_out/*',recursive=True)\n",
        "count=0\n",
        "data=[]\n",
        "for single_file in files:\n",
        "  with open(single_file,'r') as file:\n",
        "    tmp=json.loads(file.read())\n",
        "    #print(tmp)\n",
        "    data.extend(tmp)\n",
        "    X,Y=preprocess_with_loop(data)\n",
        "print(len(X))\n",
        "print(len(Y))\n",
        "#print(X)\n",
        "#print(Y)"
      ],
      "execution_count": 19,
      "outputs": [
        {
          "output_type": "stream",
          "text": [
            "3637\n",
            "3637\n"
          ],
          "name": "stdout"
        }
      ]
    },
    {
      "cell_type": "code",
      "metadata": {
        "id": "vJ-FwBvv43OB"
      },
      "source": [
        "def scale_X(X_data):\n",
        "  \"\"\"\n",
        "  Used with one hot encoded model\n",
        "  \"\"\"\n",
        "  X_copy = np.copy(X_data)\n",
        "  max_abs_scaler = MaxAbsScaler()\n",
        "  X_maxabs = max_abs_scaler.fit_transform(X_copy)\n",
        "#  with open('input_scales.json', 'w') as out_file:\n",
        " #   json.dump(max_abs_scaler.scale_.tolist(), out_file)\n",
        "  return X_maxabs"
      ],
      "execution_count": 20,
      "outputs": []
    },
    {
      "cell_type": "code",
      "metadata": {
        "id": "0x2E7Te643kF"
      },
      "source": [
        "def scale_Y(Y_data):\n",
        "  Y_copy = np.copy(Y_data)\n",
        "\n",
        "  # Scale Y\n",
        "  Y_copy /= 10\n",
        "\n",
        "  # To allow healing (negative damage), uncomment `Y[Y < -1] = -1` and comment out `Y[Y < 0] = 0`\n",
        "  #Y_copy[Y_copy < -1] = -1 # Healing (negative damage)\n",
        "  # Y_copy[Y_copy < 0] = 0 # No healing\n",
        "\n",
        "  # Cap damage taken at 100\n",
        "  Y_copy[Y_copy > 100] = 100\n",
        "  return Y_copy"
      ],
      "execution_count": 21,
      "outputs": []
    },
    {
      "cell_type": "markdown",
      "metadata": {
        "id": "zx03u-YMzGo8"
      },
      "source": [
        "artifitial nerural network using tensorflow  極有可能會修改"
      ]
    },
    {
      "cell_type": "code",
      "metadata": {
        "colab": {
          "base_uri": "https://localhost:8080/"
        },
        "id": "NHUgI_itzGQn",
        "outputId": "9bd7e74b-83e1-414d-ffa6-01da1ed4df4a"
      },
      "source": [
        "model=Sequential()\n",
        "model.add(Dense(1024,input_shape=(15,),activation='relu')) \n",
        "model.add(Dropout(.8))\n",
        "model.add(Dense(512,activation='relu'))\n",
        "model.add(Dropout(.4))\n",
        "model.add(Dense(256,activation='relu'))\n",
        "model.add(Dropout(.2))\n",
        "model.add(Dense(128,activation='relu'))\n",
        "model.add(Dropout(.1))\n",
        "model.add(Dense(64,activation='relu'))\n",
        "model.add(Dense(1))\n",
        "model.summary()\n",
        "model.compile(\n",
        "    optimizer=keras.optimizers.RMSprop(learning_rate=.001),\n",
        "    loss='mean_absolute_error',\n",
        "    metrics=['mean_absolute_error', 'mean_squared_error'])"
      ],
      "execution_count": 22,
      "outputs": [
        {
          "output_type": "stream",
          "text": [
            "Model: \"sequential_1\"\n",
            "_________________________________________________________________\n",
            "Layer (type)                 Output Shape              Param #   \n",
            "=================================================================\n",
            "dense_6 (Dense)              (None, 1024)              16384     \n",
            "_________________________________________________________________\n",
            "dropout_4 (Dropout)          (None, 1024)              0         \n",
            "_________________________________________________________________\n",
            "dense_7 (Dense)              (None, 512)               524800    \n",
            "_________________________________________________________________\n",
            "dropout_5 (Dropout)          (None, 512)               0         \n",
            "_________________________________________________________________\n",
            "dense_8 (Dense)              (None, 256)               131328    \n",
            "_________________________________________________________________\n",
            "dropout_6 (Dropout)          (None, 256)               0         \n",
            "_________________________________________________________________\n",
            "dense_9 (Dense)              (None, 128)               32896     \n",
            "_________________________________________________________________\n",
            "dropout_7 (Dropout)          (None, 128)               0         \n",
            "_________________________________________________________________\n",
            "dense_10 (Dense)             (None, 64)                8256      \n",
            "_________________________________________________________________\n",
            "dense_11 (Dense)             (None, 1)                 65        \n",
            "=================================================================\n",
            "Total params: 713,729\n",
            "Trainable params: 713,729\n",
            "Non-trainable params: 0\n",
            "_________________________________________________________________\n"
          ],
          "name": "stdout"
        }
      ]
    },
    {
      "cell_type": "markdown",
      "metadata": {
        "id": "FZhlkyxV18UG"
      },
      "source": [
        "train "
      ]
    },
    {
      "cell_type": "code",
      "metadata": {
        "id": "I7GUzt893tb4",
        "colab": {
          "base_uri": "https://localhost:8080/"
        },
        "outputId": "cd95a0f8-b4e2-43de-b38b-49b34fbe1769"
      },
      "source": [
        "X_scale=scale_X(X)\n",
        "Y_scale=scale_Y(Y)\n",
        "X_train, X_test, Y_train, Y_test = train_test_split(X_scale, Y_scale, test_size=0.2, shuffle=True)\n",
        "model=load_model('AI_FP_ROUTE.h5')\n",
        "history = model.fit(X_train, Y_train, batch_size=32, epochs=100, validation_split=0.2)\n",
        "a=model.evaluate(X_train,Y_train,verbose=2)\n",
        "b=model.evaluate(X_test,Y_test,verbose=2)\n",
        "print(b[0])\n",
        "model.save('AI_FP_ROUTE.h5')\n"
      ],
      "execution_count": 27,
      "outputs": [
        {
          "output_type": "stream",
          "text": [
            "Epoch 1/100\n",
            "73/73 [==============================] - 2s 12ms/step - loss: 5.2218 - mean_absolute_error: 5.2218 - mean_squared_error: 425.4871 - val_loss: 14.9409 - val_mean_absolute_error: 14.9409 - val_mean_squared_error: 461.9084\n",
            "Epoch 2/100\n",
            "73/73 [==============================] - 0s 7ms/step - loss: 5.2429 - mean_absolute_error: 5.2429 - mean_squared_error: 424.9565 - val_loss: 15.7273 - val_mean_absolute_error: 15.7273 - val_mean_squared_error: 474.0177\n",
            "Epoch 3/100\n",
            "73/73 [==============================] - 0s 6ms/step - loss: 5.2295 - mean_absolute_error: 5.2295 - mean_squared_error: 424.2676 - val_loss: 16.1220 - val_mean_absolute_error: 16.1220 - val_mean_squared_error: 480.6707\n",
            "Epoch 4/100\n",
            "73/73 [==============================] - 0s 7ms/step - loss: 5.2273 - mean_absolute_error: 5.2273 - mean_squared_error: 424.8380 - val_loss: 15.8996 - val_mean_absolute_error: 15.8996 - val_mean_squared_error: 476.8718\n",
            "Epoch 5/100\n",
            "73/73 [==============================] - 0s 6ms/step - loss: 5.2408 - mean_absolute_error: 5.2408 - mean_squared_error: 425.0194 - val_loss: 14.9639 - val_mean_absolute_error: 14.9639 - val_mean_squared_error: 462.2397\n",
            "Epoch 6/100\n",
            "73/73 [==============================] - 0s 6ms/step - loss: 5.2243 - mean_absolute_error: 5.2243 - mean_squared_error: 424.6927 - val_loss: 15.0369 - val_mean_absolute_error: 15.0369 - val_mean_squared_error: 463.3068\n",
            "Epoch 7/100\n",
            "73/73 [==============================] - 0s 6ms/step - loss: 5.2240 - mean_absolute_error: 5.2240 - mean_squared_error: 424.7322 - val_loss: 15.2423 - val_mean_absolute_error: 15.2423 - val_mean_squared_error: 466.3642\n",
            "Epoch 8/100\n",
            "73/73 [==============================] - 0s 6ms/step - loss: 5.2165 - mean_absolute_error: 5.2165 - mean_squared_error: 424.9115 - val_loss: 15.7832 - val_mean_absolute_error: 15.7832 - val_mean_squared_error: 474.9335\n",
            "Epoch 9/100\n",
            "73/73 [==============================] - 0s 6ms/step - loss: 5.2279 - mean_absolute_error: 5.2279 - mean_squared_error: 424.4753 - val_loss: 15.4223 - val_mean_absolute_error: 15.4223 - val_mean_squared_error: 469.0982\n",
            "Epoch 10/100\n",
            "73/73 [==============================] - 0s 6ms/step - loss: 5.2259 - mean_absolute_error: 5.2259 - mean_squared_error: 425.1685 - val_loss: 15.9640 - val_mean_absolute_error: 15.9640 - val_mean_squared_error: 477.9608\n",
            "Epoch 11/100\n",
            "73/73 [==============================] - 0s 6ms/step - loss: 5.2041 - mean_absolute_error: 5.2041 - mean_squared_error: 423.9954 - val_loss: 15.2043 - val_mean_absolute_error: 15.2043 - val_mean_squared_error: 465.7928\n",
            "Epoch 12/100\n",
            "73/73 [==============================] - 0s 6ms/step - loss: 5.2271 - mean_absolute_error: 5.2271 - mean_squared_error: 424.7249 - val_loss: 15.6801 - val_mean_absolute_error: 15.6801 - val_mean_squared_error: 473.2496\n",
            "Epoch 13/100\n",
            "73/73 [==============================] - 0s 6ms/step - loss: 5.2313 - mean_absolute_error: 5.2313 - mean_squared_error: 424.5616 - val_loss: 15.2237 - val_mean_absolute_error: 15.2237 - val_mean_squared_error: 466.0786\n",
            "Epoch 14/100\n",
            "73/73 [==============================] - 0s 7ms/step - loss: 5.2069 - mean_absolute_error: 5.2069 - mean_squared_error: 424.2480 - val_loss: 15.8301 - val_mean_absolute_error: 15.8301 - val_mean_squared_error: 475.7138\n",
            "Epoch 15/100\n",
            "73/73 [==============================] - 0s 7ms/step - loss: 5.2178 - mean_absolute_error: 5.2178 - mean_squared_error: 424.7957 - val_loss: 15.0074 - val_mean_absolute_error: 15.0074 - val_mean_squared_error: 462.8770\n",
            "Epoch 16/100\n",
            "73/73 [==============================] - 0s 7ms/step - loss: 5.2282 - mean_absolute_error: 5.2282 - mean_squared_error: 424.9098 - val_loss: 15.7995 - val_mean_absolute_error: 15.7995 - val_mean_squared_error: 475.2081\n",
            "Epoch 17/100\n",
            "73/73 [==============================] - 0s 7ms/step - loss: 5.2200 - mean_absolute_error: 5.2200 - mean_squared_error: 425.0348 - val_loss: 15.6941 - val_mean_absolute_error: 15.6941 - val_mean_squared_error: 473.4789\n",
            "Epoch 18/100\n",
            "73/73 [==============================] - 0s 6ms/step - loss: 5.2200 - mean_absolute_error: 5.2200 - mean_squared_error: 424.1138 - val_loss: 15.3167 - val_mean_absolute_error: 15.3167 - val_mean_squared_error: 467.5041\n",
            "Epoch 19/100\n",
            "73/73 [==============================] - 0s 6ms/step - loss: 5.2194 - mean_absolute_error: 5.2194 - mean_squared_error: 424.6188 - val_loss: 15.0595 - val_mean_absolute_error: 15.0595 - val_mean_squared_error: 463.6385\n",
            "Epoch 20/100\n",
            "73/73 [==============================] - 0s 6ms/step - loss: 5.2389 - mean_absolute_error: 5.2389 - mean_squared_error: 425.0259 - val_loss: 14.6310 - val_mean_absolute_error: 14.6310 - val_mean_squared_error: 457.5563\n",
            "Epoch 21/100\n",
            "73/73 [==============================] - 0s 6ms/step - loss: 5.2190 - mean_absolute_error: 5.2190 - mean_squared_error: 424.1285 - val_loss: 15.9260 - val_mean_absolute_error: 15.9260 - val_mean_squared_error: 477.3187\n",
            "Epoch 22/100\n",
            "73/73 [==============================] - 0s 6ms/step - loss: 5.2060 - mean_absolute_error: 5.2060 - mean_squared_error: 424.2634 - val_loss: 14.9936 - val_mean_absolute_error: 14.9936 - val_mean_squared_error: 462.6753\n",
            "Epoch 23/100\n",
            "73/73 [==============================] - 0s 7ms/step - loss: 5.2210 - mean_absolute_error: 5.2210 - mean_squared_error: 424.3781 - val_loss: 15.3095 - val_mean_absolute_error: 15.3095 - val_mean_squared_error: 467.3940\n",
            "Epoch 24/100\n",
            "73/73 [==============================] - 0s 6ms/step - loss: 5.2057 - mean_absolute_error: 5.2057 - mean_squared_error: 425.1815 - val_loss: 15.8594 - val_mean_absolute_error: 15.8594 - val_mean_squared_error: 476.2011\n",
            "Epoch 25/100\n",
            "73/73 [==============================] - 0s 6ms/step - loss: 5.2266 - mean_absolute_error: 5.2266 - mean_squared_error: 425.1913 - val_loss: 15.9526 - val_mean_absolute_error: 15.9526 - val_mean_squared_error: 477.7684\n",
            "Epoch 26/100\n",
            "73/73 [==============================] - 0s 6ms/step - loss: 5.2314 - mean_absolute_error: 5.2314 - mean_squared_error: 425.0693 - val_loss: 15.4296 - val_mean_absolute_error: 15.4296 - val_mean_squared_error: 469.2548\n",
            "Epoch 27/100\n",
            "73/73 [==============================] - 0s 6ms/step - loss: 5.2090 - mean_absolute_error: 5.2090 - mean_squared_error: 425.1456 - val_loss: 15.9424 - val_mean_absolute_error: 15.9424 - val_mean_squared_error: 477.5961\n",
            "Epoch 28/100\n",
            "73/73 [==============================] - 0s 6ms/step - loss: 5.2355 - mean_absolute_error: 5.2355 - mean_squared_error: 424.2188 - val_loss: 16.0835 - val_mean_absolute_error: 16.0835 - val_mean_squared_error: 480.0047\n",
            "Epoch 29/100\n",
            "73/73 [==============================] - 0s 6ms/step - loss: 5.2229 - mean_absolute_error: 5.2229 - mean_squared_error: 424.0136 - val_loss: 15.0711 - val_mean_absolute_error: 15.0711 - val_mean_squared_error: 463.8091\n",
            "Epoch 30/100\n",
            "73/73 [==============================] - 0s 7ms/step - loss: 5.2231 - mean_absolute_error: 5.2231 - mean_squared_error: 424.0733 - val_loss: 15.0793 - val_mean_absolute_error: 15.0793 - val_mean_squared_error: 463.9297\n",
            "Epoch 31/100\n",
            "73/73 [==============================] - 0s 6ms/step - loss: 5.2121 - mean_absolute_error: 5.2121 - mean_squared_error: 424.2288 - val_loss: 14.9927 - val_mean_absolute_error: 14.9927 - val_mean_squared_error: 462.6627\n",
            "Epoch 32/100\n",
            "73/73 [==============================] - 0s 6ms/step - loss: 5.2272 - mean_absolute_error: 5.2272 - mean_squared_error: 425.4746 - val_loss: 15.6314 - val_mean_absolute_error: 15.6314 - val_mean_squared_error: 472.4640\n",
            "Epoch 33/100\n",
            "73/73 [==============================] - 0s 7ms/step - loss: 5.2089 - mean_absolute_error: 5.2089 - mean_squared_error: 423.0947 - val_loss: 15.9357 - val_mean_absolute_error: 15.9357 - val_mean_squared_error: 477.4825\n",
            "Epoch 34/100\n",
            "73/73 [==============================] - 0s 6ms/step - loss: 5.2410 - mean_absolute_error: 5.2410 - mean_squared_error: 425.4569 - val_loss: 14.9173 - val_mean_absolute_error: 14.9173 - val_mean_squared_error: 461.5707\n",
            "Epoch 35/100\n",
            "73/73 [==============================] - 0s 6ms/step - loss: 5.2352 - mean_absolute_error: 5.2352 - mean_squared_error: 425.6178 - val_loss: 15.2834 - val_mean_absolute_error: 15.2834 - val_mean_squared_error: 466.9942\n",
            "Epoch 36/100\n",
            "73/73 [==============================] - 0s 7ms/step - loss: 5.2172 - mean_absolute_error: 5.2172 - mean_squared_error: 425.0582 - val_loss: 15.8202 - val_mean_absolute_error: 15.8202 - val_mean_squared_error: 475.5491\n",
            "Epoch 37/100\n",
            "73/73 [==============================] - 0s 6ms/step - loss: 5.2179 - mean_absolute_error: 5.2179 - mean_squared_error: 425.4937 - val_loss: 15.1335 - val_mean_absolute_error: 15.1335 - val_mean_squared_error: 464.7332\n",
            "Epoch 38/100\n",
            "73/73 [==============================] - 0s 7ms/step - loss: 5.2081 - mean_absolute_error: 5.2081 - mean_squared_error: 424.7671 - val_loss: 15.8779 - val_mean_absolute_error: 15.8779 - val_mean_squared_error: 476.5115\n",
            "Epoch 39/100\n",
            "73/73 [==============================] - 0s 6ms/step - loss: 5.2199 - mean_absolute_error: 5.2199 - mean_squared_error: 424.5946 - val_loss: 15.1346 - val_mean_absolute_error: 15.1346 - val_mean_squared_error: 464.7497\n",
            "Epoch 40/100\n",
            "73/73 [==============================] - 0s 7ms/step - loss: 5.2177 - mean_absolute_error: 5.2177 - mean_squared_error: 424.2164 - val_loss: 16.0114 - val_mean_absolute_error: 16.0114 - val_mean_squared_error: 478.7667\n",
            "Epoch 41/100\n",
            "73/73 [==============================] - 0s 6ms/step - loss: 5.2301 - mean_absolute_error: 5.2301 - mean_squared_error: 425.3900 - val_loss: 15.2011 - val_mean_absolute_error: 15.2011 - val_mean_squared_error: 465.7463\n",
            "Epoch 42/100\n",
            "73/73 [==============================] - 0s 6ms/step - loss: 5.2250 - mean_absolute_error: 5.2250 - mean_squared_error: 424.9912 - val_loss: 15.2749 - val_mean_absolute_error: 15.2749 - val_mean_squared_error: 466.8638\n",
            "Epoch 43/100\n",
            "73/73 [==============================] - 0s 7ms/step - loss: 5.2168 - mean_absolute_error: 5.2168 - mean_squared_error: 424.7441 - val_loss: 15.7161 - val_mean_absolute_error: 15.7161 - val_mean_squared_error: 473.8375\n",
            "Epoch 44/100\n",
            "73/73 [==============================] - 0s 6ms/step - loss: 5.2080 - mean_absolute_error: 5.2080 - mean_squared_error: 424.3510 - val_loss: 14.9168 - val_mean_absolute_error: 14.9168 - val_mean_squared_error: 461.5630\n",
            "Epoch 45/100\n",
            "73/73 [==============================] - 0s 6ms/step - loss: 5.1987 - mean_absolute_error: 5.1987 - mean_squared_error: 424.6402 - val_loss: 15.7130 - val_mean_absolute_error: 15.7130 - val_mean_squared_error: 473.7873\n",
            "Epoch 46/100\n",
            "73/73 [==============================] - 0s 7ms/step - loss: 5.2290 - mean_absolute_error: 5.2290 - mean_squared_error: 426.1503 - val_loss: 15.7115 - val_mean_absolute_error: 15.7115 - val_mean_squared_error: 473.7619\n",
            "Epoch 47/100\n",
            "73/73 [==============================] - 0s 7ms/step - loss: 5.2230 - mean_absolute_error: 5.2230 - mean_squared_error: 424.8452 - val_loss: 15.7740 - val_mean_absolute_error: 15.7740 - val_mean_squared_error: 474.7858\n",
            "Epoch 48/100\n",
            "73/73 [==============================] - 0s 7ms/step - loss: 5.2194 - mean_absolute_error: 5.2194 - mean_squared_error: 425.1472 - val_loss: 15.5441 - val_mean_absolute_error: 15.5441 - val_mean_squared_error: 471.0638\n",
            "Epoch 49/100\n",
            "73/73 [==============================] - 0s 6ms/step - loss: 5.2203 - mean_absolute_error: 5.2203 - mean_squared_error: 424.9336 - val_loss: 15.3002 - val_mean_absolute_error: 15.3002 - val_mean_squared_error: 467.2511\n",
            "Epoch 50/100\n",
            "73/73 [==============================] - 0s 6ms/step - loss: 5.2096 - mean_absolute_error: 5.2096 - mean_squared_error: 423.8637 - val_loss: 15.2492 - val_mean_absolute_error: 15.2492 - val_mean_squared_error: 466.4734\n",
            "Epoch 51/100\n",
            "73/73 [==============================] - 0s 7ms/step - loss: 5.2121 - mean_absolute_error: 5.2121 - mean_squared_error: 424.4909 - val_loss: 14.8706 - val_mean_absolute_error: 14.8706 - val_mean_squared_error: 460.9009\n",
            "Epoch 52/100\n",
            "73/73 [==============================] - 0s 6ms/step - loss: 5.2084 - mean_absolute_error: 5.2084 - mean_squared_error: 424.9795 - val_loss: 15.5244 - val_mean_absolute_error: 15.5244 - val_mean_squared_error: 470.7491\n",
            "Epoch 53/100\n",
            "73/73 [==============================] - 0s 7ms/step - loss: 5.2239 - mean_absolute_error: 5.2239 - mean_squared_error: 424.1853 - val_loss: 15.3023 - val_mean_absolute_error: 15.3023 - val_mean_squared_error: 467.2838\n",
            "Epoch 54/100\n",
            "73/73 [==============================] - 0s 7ms/step - loss: 5.2103 - mean_absolute_error: 5.2103 - mean_squared_error: 424.7286 - val_loss: 15.9006 - val_mean_absolute_error: 15.9006 - val_mean_squared_error: 476.8910\n",
            "Epoch 55/100\n",
            "73/73 [==============================] - 1s 7ms/step - loss: 5.2191 - mean_absolute_error: 5.2191 - mean_squared_error: 425.5511 - val_loss: 15.7458 - val_mean_absolute_error: 15.7458 - val_mean_squared_error: 474.3223\n",
            "Epoch 56/100\n",
            "73/73 [==============================] - 0s 7ms/step - loss: 5.2087 - mean_absolute_error: 5.2087 - mean_squared_error: 424.6698 - val_loss: 15.4415 - val_mean_absolute_error: 15.4415 - val_mean_squared_error: 469.4407\n",
            "Epoch 57/100\n",
            "73/73 [==============================] - 0s 6ms/step - loss: 5.2115 - mean_absolute_error: 5.2115 - mean_squared_error: 423.6084 - val_loss: 14.6101 - val_mean_absolute_error: 14.6101 - val_mean_squared_error: 457.2716\n",
            "Epoch 58/100\n",
            "73/73 [==============================] - 0s 7ms/step - loss: 5.2105 - mean_absolute_error: 5.2105 - mean_squared_error: 424.7173 - val_loss: 15.6424 - val_mean_absolute_error: 15.6424 - val_mean_squared_error: 472.6414\n",
            "Epoch 59/100\n",
            "73/73 [==============================] - 0s 7ms/step - loss: 5.2147 - mean_absolute_error: 5.2147 - mean_squared_error: 424.6874 - val_loss: 15.2695 - val_mean_absolute_error: 15.2695 - val_mean_squared_error: 466.7827\n",
            "Epoch 60/100\n",
            "73/73 [==============================] - 0s 7ms/step - loss: 5.2082 - mean_absolute_error: 5.2082 - mean_squared_error: 423.6273 - val_loss: 15.0670 - val_mean_absolute_error: 15.0670 - val_mean_squared_error: 463.7492\n",
            "Epoch 61/100\n",
            "73/73 [==============================] - 0s 6ms/step - loss: 5.2078 - mean_absolute_error: 5.2078 - mean_squared_error: 423.8166 - val_loss: 15.8328 - val_mean_absolute_error: 15.8328 - val_mean_squared_error: 475.7588\n",
            "Epoch 62/100\n",
            "73/73 [==============================] - 1s 7ms/step - loss: 5.2209 - mean_absolute_error: 5.2209 - mean_squared_error: 424.3788 - val_loss: 14.7246 - val_mean_absolute_error: 14.7246 - val_mean_squared_error: 458.8456\n",
            "Epoch 63/100\n",
            "73/73 [==============================] - 0s 7ms/step - loss: 5.1951 - mean_absolute_error: 5.1951 - mean_squared_error: 424.5157 - val_loss: 15.8085 - val_mean_absolute_error: 15.8085 - val_mean_squared_error: 475.3559\n",
            "Epoch 64/100\n",
            "73/73 [==============================] - 0s 6ms/step - loss: 5.1972 - mean_absolute_error: 5.1972 - mean_squared_error: 425.0721 - val_loss: 15.0948 - val_mean_absolute_error: 15.0948 - val_mean_squared_error: 464.1590\n",
            "Epoch 65/100\n",
            "73/73 [==============================] - 0s 7ms/step - loss: 5.2206 - mean_absolute_error: 5.2206 - mean_squared_error: 424.2143 - val_loss: 15.6477 - val_mean_absolute_error: 15.6477 - val_mean_squared_error: 472.7261\n",
            "Epoch 66/100\n",
            "73/73 [==============================] - 0s 7ms/step - loss: 5.1933 - mean_absolute_error: 5.1933 - mean_squared_error: 423.9544 - val_loss: 15.0875 - val_mean_absolute_error: 15.0875 - val_mean_squared_error: 464.0508\n",
            "Epoch 67/100\n",
            "73/73 [==============================] - 0s 6ms/step - loss: 5.2177 - mean_absolute_error: 5.2177 - mean_squared_error: 424.8383 - val_loss: 15.2011 - val_mean_absolute_error: 15.2011 - val_mean_squared_error: 465.7463\n",
            "Epoch 68/100\n",
            "73/73 [==============================] - 0s 6ms/step - loss: 5.1966 - mean_absolute_error: 5.1966 - mean_squared_error: 424.7571 - val_loss: 15.2787 - val_mean_absolute_error: 15.2787 - val_mean_squared_error: 466.9222\n",
            "Epoch 69/100\n",
            "73/73 [==============================] - 0s 6ms/step - loss: 5.2053 - mean_absolute_error: 5.2053 - mean_squared_error: 425.5408 - val_loss: 15.8132 - val_mean_absolute_error: 15.8132 - val_mean_squared_error: 475.4330\n",
            "Epoch 70/100\n",
            "73/73 [==============================] - 0s 7ms/step - loss: 5.2039 - mean_absolute_error: 5.2039 - mean_squared_error: 424.3231 - val_loss: 14.9342 - val_mean_absolute_error: 14.9342 - val_mean_squared_error: 461.8140\n",
            "Epoch 71/100\n",
            "73/73 [==============================] - 0s 7ms/step - loss: 5.2092 - mean_absolute_error: 5.2092 - mean_squared_error: 424.0639 - val_loss: 15.7500 - val_mean_absolute_error: 15.7500 - val_mean_squared_error: 474.3911\n",
            "Epoch 72/100\n",
            "73/73 [==============================] - 0s 7ms/step - loss: 5.2028 - mean_absolute_error: 5.2028 - mean_squared_error: 423.5754 - val_loss: 15.1152 - val_mean_absolute_error: 15.1152 - val_mean_squared_error: 464.4606\n",
            "Epoch 73/100\n",
            "73/73 [==============================] - 0s 7ms/step - loss: 5.2007 - mean_absolute_error: 5.2007 - mean_squared_error: 424.5568 - val_loss: 15.8449 - val_mean_absolute_error: 15.8449 - val_mean_squared_error: 475.9598\n",
            "Epoch 74/100\n",
            "73/73 [==============================] - 0s 6ms/step - loss: 5.2168 - mean_absolute_error: 5.2168 - mean_squared_error: 424.4856 - val_loss: 15.5740 - val_mean_absolute_error: 15.5740 - val_mean_squared_error: 471.5408\n",
            "Epoch 75/100\n",
            "73/73 [==============================] - 0s 7ms/step - loss: 5.1909 - mean_absolute_error: 5.1909 - mean_squared_error: 424.0440 - val_loss: 14.9998 - val_mean_absolute_error: 14.9998 - val_mean_squared_error: 462.7655\n",
            "Epoch 76/100\n",
            "73/73 [==============================] - 0s 6ms/step - loss: 5.2192 - mean_absolute_error: 5.2192 - mean_squared_error: 424.9117 - val_loss: 14.8248 - val_mean_absolute_error: 14.8248 - val_mean_squared_error: 460.2496\n",
            "Epoch 77/100\n",
            "73/73 [==============================] - 0s 7ms/step - loss: 5.2015 - mean_absolute_error: 5.2015 - mean_squared_error: 423.7340 - val_loss: 15.9388 - val_mean_absolute_error: 15.9388 - val_mean_squared_error: 477.5353\n",
            "Epoch 78/100\n",
            "73/73 [==============================] - 1s 7ms/step - loss: 5.2029 - mean_absolute_error: 5.2029 - mean_squared_error: 424.7760 - val_loss: 15.0844 - val_mean_absolute_error: 15.0844 - val_mean_squared_error: 464.0052\n",
            "Epoch 79/100\n",
            "73/73 [==============================] - 0s 7ms/step - loss: 5.2019 - mean_absolute_error: 5.2019 - mean_squared_error: 425.3746 - val_loss: 15.9917 - val_mean_absolute_error: 15.9917 - val_mean_squared_error: 478.4313\n",
            "Epoch 80/100\n",
            "73/73 [==============================] - 0s 7ms/step - loss: 5.2184 - mean_absolute_error: 5.2184 - mean_squared_error: 425.5701 - val_loss: 15.7003 - val_mean_absolute_error: 15.7003 - val_mean_squared_error: 473.5797\n",
            "Epoch 81/100\n",
            "73/73 [==============================] - 0s 7ms/step - loss: 5.2035 - mean_absolute_error: 5.2035 - mean_squared_error: 424.5637 - val_loss: 15.5496 - val_mean_absolute_error: 15.5496 - val_mean_squared_error: 471.1508\n",
            "Epoch 82/100\n",
            "73/73 [==============================] - 0s 7ms/step - loss: 5.2005 - mean_absolute_error: 5.2005 - mean_squared_error: 423.6572 - val_loss: 15.6544 - val_mean_absolute_error: 15.6544 - val_mean_squared_error: 472.8356\n",
            "Epoch 83/100\n",
            "73/73 [==============================] - 1s 7ms/step - loss: 5.2191 - mean_absolute_error: 5.2191 - mean_squared_error: 424.5337 - val_loss: 15.1067 - val_mean_absolute_error: 15.1067 - val_mean_squared_error: 464.3359\n",
            "Epoch 84/100\n",
            "73/73 [==============================] - 0s 7ms/step - loss: 5.2058 - mean_absolute_error: 5.2058 - mean_squared_error: 425.7668 - val_loss: 15.6147 - val_mean_absolute_error: 15.6147 - val_mean_squared_error: 472.1954\n",
            "Epoch 85/100\n",
            "73/73 [==============================] - 0s 6ms/step - loss: 5.2213 - mean_absolute_error: 5.2213 - mean_squared_error: 425.3719 - val_loss: 15.5453 - val_mean_absolute_error: 15.5453 - val_mean_squared_error: 471.0831\n",
            "Epoch 86/100\n",
            "73/73 [==============================] - 0s 7ms/step - loss: 5.2043 - mean_absolute_error: 5.2043 - mean_squared_error: 425.0725 - val_loss: 15.9906 - val_mean_absolute_error: 15.9906 - val_mean_squared_error: 478.4125\n",
            "Epoch 87/100\n",
            "73/73 [==============================] - 0s 6ms/step - loss: 5.2012 - mean_absolute_error: 5.2012 - mean_squared_error: 423.9590 - val_loss: 14.9011 - val_mean_absolute_error: 14.9011 - val_mean_squared_error: 461.3374\n",
            "Epoch 88/100\n",
            "73/73 [==============================] - 0s 7ms/step - loss: 5.2046 - mean_absolute_error: 5.2046 - mean_squared_error: 424.5690 - val_loss: 15.6663 - val_mean_absolute_error: 15.6663 - val_mean_squared_error: 473.0269\n",
            "Epoch 89/100\n",
            "73/73 [==============================] - 0s 7ms/step - loss: 5.2118 - mean_absolute_error: 5.2118 - mean_squared_error: 424.9963 - val_loss: 14.9084 - val_mean_absolute_error: 14.9084 - val_mean_squared_error: 461.4420\n",
            "Epoch 90/100\n",
            "73/73 [==============================] - 0s 6ms/step - loss: 5.2041 - mean_absolute_error: 5.2041 - mean_squared_error: 424.4873 - val_loss: 15.9554 - val_mean_absolute_error: 15.9554 - val_mean_squared_error: 477.8155\n",
            "Epoch 91/100\n",
            "73/73 [==============================] - 1s 7ms/step - loss: 5.2092 - mean_absolute_error: 5.2092 - mean_squared_error: 425.0574 - val_loss: 14.9655 - val_mean_absolute_error: 14.9655 - val_mean_squared_error: 462.2666\n",
            "Epoch 92/100\n",
            "73/73 [==============================] - 0s 7ms/step - loss: 5.2236 - mean_absolute_error: 5.2236 - mean_squared_error: 424.7281 - val_loss: 15.3891 - val_mean_absolute_error: 15.3891 - val_mean_squared_error: 468.6234\n",
            "Epoch 93/100\n",
            "73/73 [==============================] - 0s 7ms/step - loss: 5.2157 - mean_absolute_error: 5.2157 - mean_squared_error: 425.4094 - val_loss: 15.4071 - val_mean_absolute_error: 15.4071 - val_mean_squared_error: 468.9041\n",
            "Epoch 94/100\n",
            "73/73 [==============================] - 0s 7ms/step - loss: 5.2102 - mean_absolute_error: 5.2102 - mean_squared_error: 424.7409 - val_loss: 15.5470 - val_mean_absolute_error: 15.5470 - val_mean_squared_error: 471.1100\n",
            "Epoch 95/100\n",
            "73/73 [==============================] - 0s 7ms/step - loss: 5.2039 - mean_absolute_error: 5.2039 - mean_squared_error: 424.7084 - val_loss: 15.6897 - val_mean_absolute_error: 15.6897 - val_mean_squared_error: 473.4068\n",
            "Epoch 96/100\n",
            "73/73 [==============================] - 0s 6ms/step - loss: 5.2177 - mean_absolute_error: 5.2177 - mean_squared_error: 425.2096 - val_loss: 15.1675 - val_mean_absolute_error: 15.1675 - val_mean_squared_error: 465.2407\n",
            "Epoch 97/100\n",
            "73/73 [==============================] - 0s 7ms/step - loss: 5.2124 - mean_absolute_error: 5.2124 - mean_squared_error: 425.3780 - val_loss: 15.5775 - val_mean_absolute_error: 15.5775 - val_mean_squared_error: 471.5983\n",
            "Epoch 98/100\n",
            "73/73 [==============================] - 0s 6ms/step - loss: 5.2153 - mean_absolute_error: 5.2153 - mean_squared_error: 424.8064 - val_loss: 15.7027 - val_mean_absolute_error: 15.7027 - val_mean_squared_error: 473.6188\n",
            "Epoch 99/100\n",
            "73/73 [==============================] - 0s 6ms/step - loss: 5.2107 - mean_absolute_error: 5.2107 - mean_squared_error: 425.1604 - val_loss: 15.6745 - val_mean_absolute_error: 15.6745 - val_mean_squared_error: 473.1596\n",
            "Epoch 100/100\n",
            "73/73 [==============================] - 0s 7ms/step - loss: 5.1961 - mean_absolute_error: 5.1961 - mean_squared_error: 425.1829 - val_loss: 15.6809 - val_mean_absolute_error: 15.6809 - val_mean_squared_error: 473.2643\n",
            "91/91 - 0s - loss: 15.5663 - mean_absolute_error: 15.5663 - mean_squared_error: 460.4025\n",
            "23/23 - 0s - loss: 16.0456 - mean_absolute_error: 16.0456 - mean_squared_error: 504.1893\n",
            "16.04557991027832\n"
          ],
          "name": "stdout"
        }
      ]
    }
  ]
}